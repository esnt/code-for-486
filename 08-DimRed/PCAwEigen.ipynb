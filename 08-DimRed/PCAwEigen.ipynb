{
 "cells": [
  {
   "cell_type": "code",
   "execution_count": null,
   "metadata": {},
   "outputs": [],
   "source": [
    "import pandas as pd\n",
    "import numpy as np\n",
    "import matplotlib.pyplot as plt\n",
    "import seaborn as sns\n",
    "from sklearn.datasets import fetch_openml, load_iris\n",
    "from sklearn.decomposition import PCA\n",
    "from sklearn.preprocessing import StandardScaler\n",
    "from sklearn.ensemble import RandomForestClassifier\n",
    "from sklearn.model_selection import cross_val_score\n",
    "from sklearn.model_selection import train_test_split"
   ]
  },
  {
   "cell_type": "code",
   "execution_count": null,
   "metadata": {},
   "outputs": [],
   "source": []
  },
  {
   "cell_type": "markdown",
   "metadata": {},
   "source": [
    "## MNIST"
   ]
  },
  {
   "cell_type": "code",
   "execution_count": null,
   "metadata": {},
   "outputs": [],
   "source": [
    "X,y = fetch_openml(data_id=554, return_X_y=True, as_frame=False,parser='auto')"
   ]
  },
  {
   "cell_type": "code",
   "execution_count": null,
   "metadata": {},
   "outputs": [],
   "source": [
    "scaler = StandardScaler()\n",
    "X_scaled = scaler.fit_transform(X)\n",
    "# X2 = X/255\n",
    "# mean = X2.mean(axis=0)\n",
    "# X_centered = (X2 - mean)"
   ]
  },
  {
   "cell_type": "code",
   "execution_count": null,
   "metadata": {},
   "outputs": [],
   "source": [
    "plt.imshow(X[0,:].reshape(28,28), cmap='Blues');"
   ]
  },
  {
   "cell_type": "code",
   "execution_count": null,
   "metadata": {},
   "outputs": [],
   "source": [
    "fig, ax = plt.subplots(10, 10, figsize=(8, 8), subplot_kw=dict(xticks=[], yticks=[]))\n",
    "fig.subplots_adjust(hspace=0.05, wspace=0.05)\n",
    "for i, axi in enumerate(ax.flat):\n",
    "    im = axi.imshow(X[i].reshape(28, 28), cmap='Blues')\n"
   ]
  },
  {
   "cell_type": "code",
   "execution_count": null,
   "metadata": {},
   "outputs": [],
   "source": [
    "#keep just a subset of digits\n",
    "keep = pd.Series(y).isin(['0','1'])\n",
    "Xsub = X_scaled[keep].copy()\n",
    "ysub = y[keep].copy()"
   ]
  },
  {
   "cell_type": "code",
   "execution_count": null,
   "metadata": {
    "scrolled": false
   },
   "outputs": [],
   "source": [
    "Xplot = Xsub#+mean\n",
    "fig, ax = plt.subplots(5, 5, figsize=(8, 8), subplot_kw=dict(xticks=[], yticks=[]))\n",
    "fig.subplots_adjust(hspace=0.05, wspace=0.05)\n",
    "for i, axi in enumerate(ax.flat):\n",
    "    im = axi.imshow(Xplot[i].reshape(28, 28), cmap='Blues')"
   ]
  },
  {
   "cell_type": "code",
   "execution_count": null,
   "metadata": {},
   "outputs": [],
   "source": []
  },
  {
   "cell_type": "markdown",
   "metadata": {},
   "source": [
    "## PCA with eigenvalues and eigenvectors"
   ]
  },
  {
   "cell_type": "code",
   "execution_count": null,
   "metadata": {},
   "outputs": [],
   "source": [
    "# covariance matrix\n",
    "sigma = np.cov(Xsub.T)"
   ]
  },
  {
   "cell_type": "code",
   "execution_count": null,
   "metadata": {},
   "outputs": [],
   "source": [
    "sigma.shape"
   ]
  },
  {
   "cell_type": "code",
   "execution_count": null,
   "metadata": {},
   "outputs": [],
   "source": [
    "#sigma[350:360,350:360]"
   ]
  },
  {
   "cell_type": "code",
   "execution_count": null,
   "metadata": {},
   "outputs": [],
   "source": [
    "# compute eigen values and vectors\n",
    "eig_val, eig_vec = np.linalg.eigh(sigma)\n",
    "\n",
    "# sort eigen values and vectors\n",
    "sorted_indices = np.argsort(eig_val)[::-1]\n",
    "eig_vec = eig_vec[:, sorted_indices]  \n",
    "eig_val = eig_val[sorted_indices] "
   ]
  },
  {
   "cell_type": "code",
   "execution_count": null,
   "metadata": {},
   "outputs": [],
   "source": [
    "# Extract the first k eigenvectors\n",
    "k = 30\n",
    "V2 = eig_vec[:, :k]\n",
    "\n",
    "# Get the PC projections\n",
    "pc2 = Xsub.dot(V2)\n",
    "c1 = pc2[:, 0]\n",
    "c2 = pc2[:, 1]"
   ]
  },
  {
   "cell_type": "code",
   "execution_count": null,
   "metadata": {},
   "outputs": [],
   "source": [
    "# get the pc scores (the projections of the data on the PCs)\n",
    "pc_scores = Xsub @ V2"
   ]
  },
  {
   "cell_type": "code",
   "execution_count": null,
   "metadata": {},
   "outputs": [],
   "source": [
    "plt.scatter(c1, c2, c=ysub.astype(int), cmap='viridis', edgecolor='k', s=40);"
   ]
  },
  {
   "cell_type": "code",
   "execution_count": null,
   "metadata": {},
   "outputs": [],
   "source": []
  },
  {
   "cell_type": "markdown",
   "metadata": {},
   "source": [
    "## PCA with sklearn tools"
   ]
  },
  {
   "cell_type": "code",
   "execution_count": null,
   "metadata": {},
   "outputs": [],
   "source": [
    "# \n",
    "pca = PCA(n_components=.8)  #n_components=2"
   ]
  },
  {
   "cell_type": "code",
   "execution_count": null,
   "metadata": {},
   "outputs": [],
   "source": [
    "X_pca = pca.fit(Xsub)"
   ]
  },
  {
   "cell_type": "code",
   "execution_count": null,
   "metadata": {
    "scrolled": true
   },
   "outputs": [],
   "source": [
    "pca.n_components_"
   ]
  },
  {
   "cell_type": "code",
   "execution_count": null,
   "metadata": {},
   "outputs": [],
   "source": [
    "# get the pc\n",
    "X_transform = X_pca.transform(Xsub)"
   ]
  },
  {
   "cell_type": "code",
   "execution_count": null,
   "metadata": {},
   "outputs": [],
   "source": [
    "X_transform.shape"
   ]
  },
  {
   "cell_type": "code",
   "execution_count": null,
   "metadata": {},
   "outputs": [],
   "source": [
    "rf = RandomForestClassifier()\n",
    "cross_val_score(rf, Xsub, ysub).mean()"
   ]
  },
  {
   "cell_type": "code",
   "execution_count": null,
   "metadata": {},
   "outputs": [],
   "source": [
    "rf = RandomForestClassifier()\n",
    "cross_val_score(rf, X_transform, ysub).mean()"
   ]
  },
  {
   "cell_type": "code",
   "execution_count": null,
   "metadata": {},
   "outputs": [],
   "source": [
    "# plot first two pc\n",
    "\n",
    "pc1 = X_transform[:,0]\n",
    "pc2 = X_transform[:,1]\n",
    "labels = ysub.astype(int)\n",
    "fig, ax = plt.subplots()\n",
    "scatter = ax.scatter(pc1, pc2, c=labels)\n",
    "\n",
    "legend = ax.legend(*scatter.legend_elements(),\n",
    "                    loc=\"best\", title=\"Lables\")\n",
    "ax.add_artist(legend)\n"
   ]
  },
  {
   "cell_type": "code",
   "execution_count": null,
   "metadata": {},
   "outputs": [],
   "source": [
    "# Calculate the loadings\n",
    "# (relative importance of the original features to the principal components)\n",
    "eigenvectors = pca.components_\n",
    "eigenvalues = pca.explained_variance_\n",
    "loadings = eigenvectors.T * np.sqrt(eigenvalues)"
   ]
  },
  {
   "cell_type": "code",
   "execution_count": null,
   "metadata": {},
   "outputs": [],
   "source": [
    "pca.explained_variance_ratio_[0]"
   ]
  },
  {
   "cell_type": "code",
   "execution_count": null,
   "metadata": {},
   "outputs": [],
   "source": [
    "fig, ax = plt.subplots(5, 4, figsize=(8, 8), subplot_kw=dict(xticks=[], yticks=[]))\n",
    "fig.subplots_adjust(hspace=0.05, wspace=0.05)\n",
    "for i, axi in enumerate(ax.flat):\n",
    "    im = axi.imshow(loadings.T[i].reshape(28, 28), cmap='Blues')"
   ]
  },
  {
   "cell_type": "code",
   "execution_count": null,
   "metadata": {},
   "outputs": [],
   "source": [
    "Xsub = np.random.normal(size=(14780, 784))"
   ]
  },
  {
   "cell_type": "code",
   "execution_count": null,
   "metadata": {},
   "outputs": [],
   "source": [
    "Xsub.shape"
   ]
  },
  {
   "cell_type": "code",
   "execution_count": null,
   "metadata": {},
   "outputs": [],
   "source": []
  },
  {
   "cell_type": "code",
   "execution_count": null,
   "metadata": {},
   "outputs": [],
   "source": [
    "# compress data\n",
    "digits_new = pca.inverse_transform(X_transform)"
   ]
  },
  {
   "cell_type": "code",
   "execution_count": null,
   "metadata": {},
   "outputs": [],
   "source": [
    "digits_new.shape"
   ]
  },
  {
   "cell_type": "code",
   "execution_count": null,
   "metadata": {},
   "outputs": [],
   "source": [
    "digits_new_plot = digits_new#+mean"
   ]
  },
  {
   "cell_type": "code",
   "execution_count": null,
   "metadata": {
    "scrolled": true
   },
   "outputs": [],
   "source": [
    "fig, ax = plt.subplots(5, 5, figsize=(8, 8), subplot_kw=dict(xticks=[], yticks=[]))\n",
    "fig.subplots_adjust(hspace=0.05, wspace=0.05)\n",
    "for i, axi in enumerate(ax.flat):\n",
    "    im = axi.imshow(digits_new_plot[i].reshape(28, 28), cmap='Blues')"
   ]
  },
  {
   "cell_type": "code",
   "execution_count": null,
   "metadata": {},
   "outputs": [],
   "source": []
  }
 ],
 "metadata": {
  "kernelspec": {
   "display_name": "shared",
   "language": "python",
   "name": "python3"
  },
  "language_info": {
   "codemirror_mode": {
    "name": "ipython",
    "version": 3
   },
   "file_extension": ".py",
   "mimetype": "text/x-python",
   "name": "python",
   "nbconvert_exporter": "python",
   "pygments_lexer": "ipython3",
   "version": "3.12.8"
  }
 },
 "nbformat": 4,
 "nbformat_minor": 4
}
