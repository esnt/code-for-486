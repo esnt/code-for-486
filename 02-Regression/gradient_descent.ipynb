{
 "cells": [
  {
   "cell_type": "code",
   "execution_count": 1,
   "metadata": {},
   "outputs": [],
   "source": [
    "import pandas as pd\n",
    "import numpy as np\n",
    "from sklearn.linear_model import LinearRegression\n",
    "from sklearn.preprocessing import StandardScaler\n",
    "from sklearn.preprocessing import PolynomialFeatures\n",
    "import matplotlib.pyplot as plt"
   ]
  },
  {
   "cell_type": "code",
   "execution_count": 2,
   "metadata": {},
   "outputs": [
    {
     "data": {
      "text/plain": [
       "(36, 5)"
      ]
     },
     "execution_count": 2,
     "metadata": {},
     "output_type": "execute_result"
    }
   ],
   "source": [
    "url = 'https://github.com/esnt/Data/raw/main/CleanData/icecreamcone2.csv'\n",
    "df = pd.read_csv(url)\n",
    "df.shape"
   ]
  },
  {
   "cell_type": "code",
   "execution_count": 4,
   "metadata": {},
   "outputs": [
    {
     "data": {
      "text/html": [
       "<div>\n",
       "<style scoped>\n",
       "    .dataframe tbody tr th:only-of-type {\n",
       "        vertical-align: middle;\n",
       "    }\n",
       "\n",
       "    .dataframe tbody tr th {\n",
       "        vertical-align: top;\n",
       "    }\n",
       "\n",
       "    .dataframe thead th {\n",
       "        text-align: right;\n",
       "    }\n",
       "</style>\n",
       "<table border=\"1\" class=\"dataframe\">\n",
       "  <thead>\n",
       "    <tr style=\"text-align: right;\">\n",
       "      <th></th>\n",
       "      <th>tempC</th>\n",
       "      <th>saltPct</th>\n",
       "      <th>waterPct</th>\n",
       "      <th>batVis</th>\n",
       "      <th>logBV</th>\n",
       "    </tr>\n",
       "  </thead>\n",
       "  <tbody>\n",
       "    <tr>\n",
       "      <th>0</th>\n",
       "      <td>15.0</td>\n",
       "      <td>0.0</td>\n",
       "      <td>29.5</td>\n",
       "      <td>820</td>\n",
       "      <td>6.709304</td>\n",
       "    </tr>\n",
       "    <tr>\n",
       "      <th>1</th>\n",
       "      <td>15.0</td>\n",
       "      <td>0.0</td>\n",
       "      <td>32.0</td>\n",
       "      <td>234</td>\n",
       "      <td>5.455321</td>\n",
       "    </tr>\n",
       "  </tbody>\n",
       "</table>\n",
       "</div>"
      ],
      "text/plain": [
       "   tempC  saltPct  waterPct  batVis     logBV\n",
       "0   15.0      0.0      29.5     820  6.709304\n",
       "1   15.0      0.0      32.0     234  5.455321"
      ]
     },
     "execution_count": 4,
     "metadata": {},
     "output_type": "execute_result"
    }
   ],
   "source": [
    "df.head(2)"
   ]
  },
  {
   "cell_type": "code",
   "execution_count": 33,
   "metadata": {},
   "outputs": [],
   "source": [
    "#features = df[['tempC','saltPct','waterPct']]\n",
    "\n",
    "## For visualization purposes, I will only use one feature in this code\n",
    "features = df[['waterPct']]\n",
    "features = StandardScaler().fit_transform(features)\n",
    "target = df['logBV']\n",
    "n = len(target)"
   ]
  },
  {
   "cell_type": "code",
   "execution_count": 34,
   "metadata": {},
   "outputs": [
    {
     "name": "stdout",
     "output_type": "stream",
     "text": [
      "[4.8455, -0.4246]\n"
     ]
    }
   ],
   "source": [
    "### Use Linear Regression from sklearn\n",
    "rounding_level = 4\n",
    "\n",
    "lm = LinearRegression()\n",
    "lm.fit(features, target)\n",
    "beta_LR = [lm.intercept_.round(rounding_level)] + list(lm.coef_.round(rounding_level))\n",
    "print(beta_LR)"
   ]
  },
  {
   "cell_type": "code",
   "execution_count": 35,
   "metadata": {},
   "outputs": [
    {
     "data": {
      "text/plain": [
       "((36, 2), (36, 1))"
      ]
     },
     "execution_count": 35,
     "metadata": {},
     "output_type": "execute_result"
    }
   ],
   "source": [
    "# Add the intercept term to the X matrix for normal-equations computation\n",
    "X = PolynomialFeatures(degree=1).fit_transform(features)\n",
    "y = target.values.reshape(n,1)\n",
    "X.shape, y.shape"
   ]
  },
  {
   "cell_type": "code",
   "execution_count": 36,
   "metadata": {},
   "outputs": [
    {
     "name": "stdout",
     "output_type": "stream",
     "text": [
      "[[ 4.8455]\n",
      " [-0.4246]]\n"
     ]
    }
   ],
   "source": [
    "# normal equations\n",
    "beta_normal = np.linalg.inv(X.T @ X) @ X.T @ y\n",
    "print(beta_normal.round(rounding_level))"
   ]
  },
  {
   "cell_type": "markdown",
   "metadata": {},
   "source": [
    "### Gradient Descent Algorithm"
   ]
  },
  {
   "cell_type": "code",
   "execution_count": 47,
   "metadata": {},
   "outputs": [
    {
     "name": "stdout",
     "output_type": "stream",
     "text": [
      "0.0003497696342812384\n",
      "500\n",
      "[[ 4.81365264]\n",
      " [-0.42183403]]\n"
     ]
    }
   ],
   "source": [
    "# number of coefficients or model weights\n",
    "p = X.shape[1]\n",
    "\n",
    "# learning rate\n",
    "eta = .01\n",
    "\n",
    "# define number of epochs\n",
    "epochs = 500 \n",
    "\n",
    "\n",
    "# initial values for the coefficients \n",
    "# the gd in beta_gd is for gradient descent)\n",
    "beta_gd = np.zeros((p,1))\n",
    "save_betas = []\n",
    "cost = []\n",
    "\n",
    "for e in range(epochs):\n",
    "    save_betas.append(beta_gd)\n",
    "    gradients = (1/n) * X.T @ (X @ beta_gd - y)\n",
    "    new_betas = beta_gd - eta * gradients\n",
    "    change = np.abs(new_betas - beta_gd).sum()\n",
    "    beta_gd = new_betas\n",
    "\n",
    "\n",
    "\n",
    "    ## Here I'm just saving the cost function value and coefficients at each iteration\n",
    "    yhat = X @ beta_gd\n",
    "    residuals = yhat - y\n",
    "    cost.append((1/(2*n)) * residuals.T @ residuals)\n",
    "\n",
    "# convert the lists of saved values to numpy arrays\n",
    "save_betas = np.array(save_betas)\n",
    "cost = np.array(cost).flatten()\n",
    "\n",
    "print(change)\n",
    "print(epochs)\n",
    "print(beta_gd)\n"
   ]
  },
  {
   "cell_type": "code",
   "execution_count": 48,
   "metadata": {},
   "outputs": [
    {
     "data": {
      "image/png": "[encoded data removed]",
      "text/plain": [
       "<Figure size 640x480 with 2 Axes>"
      ]
     },
     "metadata": {},
     "output_type": "display_data"
    }
   ],
   "source": [
    "# plot the cost function value at each iteration\n",
    "\n",
    "b0_range = np.linspace(-5, 5, 100)\n",
    "b1_range = np.linspace(-1, 1, 100)\n",
    "B0, B1 = np.meshgrid(b0_range, b1_range)\n",
    "Z = np.array([\n",
    "    np.mean(((B0_val + B1_val * X[:, 1]) - y.ravel())**2)\n",
    "    for B0_val, B1_val in zip(B0.ravel(), B1.ravel())\n",
    "]).reshape(B0.shape)\n",
    "\n",
    "plt.contourf(B0, B1, Z, levels=50, cmap=\"viridis\")\n",
    "plt.colorbar(label=\"Loss\")\n",
    "plt.title(\"Gradient Descent Trajectory\")\n",
    "plt.xlabel(\"Beta 0\")\n",
    "plt.ylabel(\"Beta 1\")\n",
    "\n",
    "plt.plot(save_betas[:, 0], save_betas[:, 1], 'r-o', label=\"Gradient Descent Path\")\n",
    "plt.legend()\n",
    "plt.show()"
   ]
  },
  {
   "cell_type": "code",
   "execution_count": null,
   "metadata": {},
   "outputs": [],
   "source": []
  },
  {
   "cell_type": "code",
   "execution_count": null,
   "metadata": {},
   "outputs": [],
   "source": []
  }
 ],
 "metadata": {
  "kernelspec": {
   "display_name": "shared",
   "language": "python",
   "name": "python3"
  },
  "language_info": {
   "codemirror_mode": {
    "name": "ipython",
    "version": 3
   },
   "file_extension": ".py",
   "mimetype": "text/x-python",
   "name": "python",
   "nbconvert_exporter": "python",
   "pygments_lexer": "ipython3",
   "version": "3.12.8"
  }
 },
 "nbformat": 4,
 "nbformat_minor": 4
}
