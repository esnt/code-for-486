{
 "cells": [
  {
   "cell_type": "code",
   "execution_count": null,
   "metadata": {},
   "outputs": [],
   "source": [
    "import numpy as np\n",
    "import matplotlib.pyplot as plt\n",
    "from scipy.stats import norm, multivariate_normal\n"
   ]
  },
  {
   "cell_type": "code",
   "execution_count": null,
   "metadata": {},
   "outputs": [],
   "source": [
    "\n",
    "# Generate simple synthetic data: a mixture of two 1D Gaussians\n",
    "np.random.seed(100)\n",
    "n_samples = 300\n",
    "w_true = [0.7, 0.3]  # True mixture weights\n",
    "mu_true = [0, 5]\n",
    "sigma_true = [1, 1]\n",
    "\n",
    "n_samples_component_1 = int(n_samples * w_true[0])\n",
    "n_samples_component_2 = n_samples - n_samples_component_1\n",
    "\n",
    "data = np.concatenate([\n",
    "    np.random.normal(mu_true[0], sigma_true[0], n_samples_component_1),\n",
    "    np.random.normal(mu_true[1], sigma_true[1], n_samples_component_2)\n",
    "])\n"
   ]
  },
  {
   "cell_type": "code",
   "execution_count": null,
   "metadata": {},
   "outputs": [],
   "source": [
    "plt.hist(data);"
   ]
  },
  {
   "cell_type": "code",
   "execution_count": null,
   "metadata": {},
   "outputs": [],
   "source": []
  },
  {
   "cell_type": "code",
   "execution_count": null,
   "metadata": {},
   "outputs": [],
   "source": [
    "# Initialize parameters\n",
    "K = 2\n",
    "np.random.seed(42)\n",
    "mu = np.random.choice(data, K)\n",
    "sigma = np.full(K, np.std(data))\n",
    "pi = np.full(K, 1 / K)  # start with equal weights \n",
    "log_likelihoods = []\n",
    "\n",
    "\n",
    "# Gaussian PDF\n",
    "def gaussian_pdf(x, mu, sigma):\n",
    "    return norm.pdf(x, loc=mu, scale=sigma)\n",
    "\n",
    "\n"
   ]
  },
  {
   "cell_type": "code",
   "execution_count": null,
   "metadata": {},
   "outputs": [],
   "source": [
    "# EM algorithm\n",
    "n_iterations = 20\n",
    "for iteration in range(n_iterations):\n",
    "    # === E-Step ===\n",
    "    gamma = np.zeros((len(data), K))\n",
    "    for k in range(K):\n",
    "        gamma[:, k] = ###\n",
    "    gamma /= gamma.sum(axis=1, keepdims=True)  # Normalize\n",
    "    \n",
    "\n",
    "    # === M-Step ===\n",
    "    N_k = gamma.sum(axis=0)\n",
    "    for k in range(K):\n",
    "        mu[k] = ###\n",
    "        sigma[k] = ###\n",
    "        pi[k] = ###\n",
    "\n",
    "    # Log-likelihood\n",
    "    likelihood = np.zeros((len(data), K))\n",
    "    for k in range(K):\n",
    "        likelihood[:, k] = pi[k] * gaussian_pdf(data, mu[k], sigma[k])\n",
    "    log_likelihood = np.sum(np.log(likelihood.sum(axis=1)))\n",
    "    log_likelihoods.append(log_likelihood)\n",
    "\n",
    "    print(f\"Iteration {iteration+1}\")\n",
    "    print(f\"  Means: {mu}\")\n",
    "    print(f\"  Stddevs: {sigma}\")\n",
    "    print(f\"  Mixing coefficients: {pi}\")\n",
    "    print(f\"  Log-likelihood: {log_likelihood:.2f}\")\n",
    "    print(\"-\" * 40)\n",
    "\n"
   ]
  },
  {
   "cell_type": "code",
   "execution_count": null,
   "metadata": {},
   "outputs": [],
   "source": [
    "\n",
    "x = np.linspace(min(data) - 1, max(data) + 1, 1000)\n",
    "final_pdf = np.zeros_like(x)\n",
    "for k in range(K):\n",
    "    final_pdf += pi[k] * norm.pdf(x, mu[k], sigma[k])\n",
    "\n",
    "plt.hist(data, bins=30, density=True, alpha=0.6, label='Data histogram')\n",
    "plt.plot(x, final_pdf, label='Fitted GMM', linewidth=2)\n",
    "for k in range(K):\n",
    "    plt.plot(x, pi[k] * norm.pdf(x, mu[k], sigma[k]), '--', label=f'Component {k+1}')\n",
    "plt.title(\"1D GMM Fit Using EM\")\n",
    "plt.legend()\n",
    "plt.show()"
   ]
  },
  {
   "cell_type": "code",
   "execution_count": null,
   "metadata": {},
   "outputs": [],
   "source": []
  },
  {
   "cell_type": "markdown",
   "metadata": {},
   "source": [
    "## 2D Example"
   ]
  },
  {
   "cell_type": "code",
   "execution_count": null,
   "metadata": {},
   "outputs": [],
   "source": [
    "np.random.seed(1)\n",
    "n_samples = 300\n",
    "\n",
    "# True parameters\n",
    "mu_true = [np.array([0, 0]), np.array([4, 4])]\n",
    "cov_true = [np.array([[1, 0.5], [0.5, 1]]), np.array([[1, -0.3], [-0.3, 1]])]\n",
    "pi_true = [0.7, 0.3]\n",
    "\n",
    "n1 = int(n_samples * pi_true[0])\n",
    "n2 = n_samples - n1\n",
    "\n",
    "data = np.vstack([\n",
    "    np.random.multivariate_normal(mu_true[0], cov_true[0], n1),\n",
    "    np.random.multivariate_normal(mu_true[1], cov_true[1], n2)\n",
    "])\n",
    "\n"
   ]
  },
  {
   "cell_type": "code",
   "execution_count": null,
   "metadata": {},
   "outputs": [],
   "source": [
    "plt.scatter(data[:,0], data[:,1]);"
   ]
  },
  {
   "cell_type": "code",
   "execution_count": null,
   "metadata": {},
   "outputs": [],
   "source": [
    "\n",
    "# Initialize parameters\n",
    "np.random.seed(42)\n",
    "gamma = np.random.dirichlet(alpha=[1]*K, size=len(data))  # Each row sums to 1\n",
    "\n",
    "# Compute initial parameters from random responsibilities\n",
    "N_k = gamma.sum(axis=0)\n",
    "mu = np.array([\n",
    "    (gamma[:, k][:, np.newaxis] * data).sum(axis=0) / N_k[k]\n",
    "    for k in range(K)\n",
    "])\n",
    "cov = []\n",
    "for k in range(K):\n",
    "    diff = data - mu[k]\n",
    "    weighted_cov = (gamma[:, k][:, np.newaxis, np.newaxis] * \n",
    "                    np.einsum('ni,nj->nij', diff, diff)).sum(axis=0) / N_k[k]\n",
    "    cov.append(weighted_cov)\n",
    "pi = N_k / len(data)\n",
    "\n",
    "# Store this initial gamma\n",
    "responsibilities_over_time = [gamma.copy()]\n",
    "\n"
   ]
  },
  {
   "cell_type": "code",
   "execution_count": null,
   "metadata": {},
   "outputs": [],
   "source": [
    "\n",
    "# EM algorithm\n",
    "n_iterations = 40\n",
    "for iteration in range(n_iterations):\n",
    "    # E-step\n",
    "    gamma = np.zeros((len(data), K))\n",
    "    for k in range(K):\n",
    "        gamma[:, k] = pi[k] * multivariate_normal.pdf(data, mean=mu[k], cov=cov[k])\n",
    "    gamma /= gamma.sum(axis=1, keepdims=True)\n",
    "    responsibilities_over_time.append(gamma.copy())\n",
    "\n",
    "    # M-step\n",
    "    N_k = gamma.sum(axis=0)\n",
    "    for k in range(K):\n",
    "        mu[k] = (gamma[:, k][:, np.newaxis] * data).sum(axis=0) / N_k[k]\n",
    "        diff = data - mu[k]\n",
    "        cov[k] = (gamma[:, k][:, np.newaxis, np.newaxis] * \n",
    "                  np.einsum('ni,nj->nij', diff, diff)).sum(axis=0) / N_k[k]\n",
    "        pi[k] = N_k[k] / len(data)\n",
    "\n"
   ]
  },
  {
   "cell_type": "code",
   "execution_count": null,
   "metadata": {},
   "outputs": [],
   "source": [
    "selected_iterations = list(range(1, n_iterations, 4))  # [0, 2, 4, ..., 18]\n",
    "fig, axes = plt.subplots(2, 5, figsize=(18, 7))\n",
    "\n",
    "for ax, it in zip(axes.ravel(), selected_iterations):\n",
    "    gamma = responsibilities_over_time[it]\n",
    "    color = np.stack([\n",
    "        gamma[:, 0],       # Red channel → responsibility for component 1\n",
    "        np.zeros_like(gamma[:, 0]),  # Green channel = 0\n",
    "        gamma[:, 1]        # Blue channel → responsibility for component 2\n",
    "    ], axis=1)\n",
    "    ax.scatter(data[:, 0], data[:, 1], color=color, s=20, edgecolor='k', alpha=0.8)\n",
    "    ax.set_title(f\"Iteration {it + 1}\")\n",
    "    ax.set_xlim(-4, 8)\n",
    "    ax.set_ylim(-4, 8)\n",
    "    ax.set_aspect('equal')\n",
    "    ax.set_xticks([])\n",
    "    ax.set_yticks([])\n",
    "\n",
    "plt.suptitle(\"Responsiblities over EM Iterations\", fontsize=18)\n",
    "plt.tight_layout(rect=[0, 0, 1, 0.95])\n",
    "plt.show()"
   ]
  },
  {
   "cell_type": "code",
   "execution_count": null,
   "metadata": {},
   "outputs": [],
   "source": []
  }
 ],
 "metadata": {
  "kernelspec": {
   "display_name": "shared",
   "language": "python",
   "name": "python3"
  },
  "language_info": {
   "codemirror_mode": {
    "name": "ipython",
    "version": 3
   },
   "file_extension": ".py",
   "mimetype": "text/x-python",
   "name": "python",
   "nbconvert_exporter": "python",
   "pygments_lexer": "ipython3",
   "version": "3.12.8"
  }
 },
 "nbformat": 4,
 "nbformat_minor": 2
}
