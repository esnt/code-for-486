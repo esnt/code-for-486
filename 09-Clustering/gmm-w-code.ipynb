{
 "cells": [
  {
   "cell_type": "code",
   "execution_count": null,
   "metadata": {},
   "outputs": [],
   "source": [
    "import numpy as np\n",
    "import matplotlib.pyplot as plt\n",
    "from scipy.stats import norm\n",
    "from sklearn.mixture import GaussianMixture"
   ]
  },
  {
   "cell_type": "markdown",
   "metadata": {},
   "source": [
    "\n",
    "---\n",
    "**1. Gaussian Distributions**\n",
    "* Generate and plot a single Gaussian distribution"
   ]
  },
  {
   "cell_type": "code",
   "execution_count": null,
   "metadata": {},
   "outputs": [],
   "source": [
    "# Generate a Gaussian distribution with a mean of 0 and a standard deviation of 1\n",
    "mean = 0\n",
    "stddev = 1\n",
    "data = np.random.normal(mean, stddev, 1000)\n",
    "\n",
    "# Plot the distribution\n",
    "plt.figure(figsize=(10, 6))\n",
    "plt.hist(data, bins=50, density=True, alpha=0.6, color='g')\n",
    "\n",
    "# Plot the PDF\n",
    "x_values = np.linspace(-4, 4, 150)\n",
    "y_values = norm.pdf(x_values, mean, stddev)\n",
    "plt.plot(x_values, y_values, linewidth=2, color='r')\n",
    "\n",
    "plt.title('Single Gaussian Distribution')\n",
    "plt.xlabel('Value')\n",
    "plt.ylabel('Probability Density')\n",
    "\n",
    "plt.grid(True)\n",
    "plt.show()\n"
   ]
  },
  {
   "cell_type": "code",
   "execution_count": null,
   "metadata": {},
   "outputs": [],
   "source": []
  },
  {
   "cell_type": "markdown",
   "metadata": {},
   "source": [
    "---\n",
    "**2: Mixture of Gaussians**\n",
    "Generate and plot a mixture of two or more Gaussian distributions.\n"
   ]
  },
  {
   "cell_type": "code",
   "execution_count": null,
   "metadata": {},
   "outputs": [],
   "source": [
    "# Parameters for two Gaussian distributions\n",
    "mean1, stddev1 = -2, 1\n",
    "mean2, stddev2 = 2, 1.5\n",
    "mix_p1 = 0.6\n",
    "mix_p2 = 0.4\n",
    "# Generate random data from two Gaussian distributions\n",
    "data1 = np.random.normal(mean1, stddev1, int(1000 * mix_p1))\n",
    "data2 = np.random.normal(mean2, stddev2, int(1000 * mix_p2))\n",
    "\n",
    "# Combine the two datasets into one\n",
    "data = np.concatenate([data1, data2])\n",
    "\n",
    "# Plot a histogram of the mixed data\n",
    "plt.figure(figsize=(10, 6))\n",
    "plt.hist(data, bins=30, density=True, alpha=0.6, color='b')\n",
    "\n",
    "# Plot the PDFs of the individual Gaussian distributions\n",
    "x = np.linspace(min(data), max(data), 100)\n",
    "p1 = norm.pdf(x, mean1, stddev1)\n",
    "p2 = norm.pdf(x, mean2, stddev2)\n",
    "\n",
    "# The mixed Gaussian PDFs\n",
    "p_mixed = mix_p1 * p1 + mix_p2 * p2\n",
    "\n",
    "plt.plot(x, p1, 'k', linewidth=2)\n",
    "plt.plot(x, p2, 'k', linewidth=2)\n",
    "plt.plot(x, p_mixed, 'r', linewidth=2, linestyle='--')\n",
    "\n",
    "plt.title('Histogram and PDFs of a Mixture of Gaussian Distributions')\n",
    "plt.show()\n"
   ]
  },
  {
   "cell_type": "markdown",
   "metadata": {},
   "source": [
    "**3: Implementing GMM with Scikit-learn**\n",
    "\n",
    "Use `sklearn.mixture.GaussianMixture` to fit a GMM on synthetic data.\n"
   ]
  },
  {
   "cell_type": "code",
   "execution_count": null,
   "metadata": {},
   "outputs": [],
   "source": [
    "X = data[:, np.newaxis]\n",
    "\n",
    "# Fit a Gaussian mixture with 2 components\n",
    "gmm = GaussianMixture(n_components=2, random_state=0)\n",
    "gmm.fit(X)\n",
    "\n",
    "# Display the means and variances of the two components\n",
    "print(f\"Means: {gmm.means_.flatten()}\")\n",
    "print(f\"Variances: {gmm.covariances_.flatten()}\")\n"
   ]
  },
  {
   "cell_type": "code",
   "execution_count": null,
   "metadata": {},
   "outputs": [],
   "source": []
  },
  {
   "cell_type": "markdown",
   "metadata": {},
   "source": [
    "**4: Clustering with GMM**\n",
    "\n",
    "Visualize the clusters formed by the GMM on synthetic data."
   ]
  },
  {
   "cell_type": "code",
   "execution_count": null,
   "metadata": {},
   "outputs": [],
   "source": [
    "# Predict cluster membership\n",
    "labels = gmm.predict(X)\n",
    "\n",
    "# Plot the clustered data\n",
    "plt.figure(figsize=(10, 6))\n",
    "plt.scatter(data, np.zeros_like(X), c=labels, cmap='viridis', s=30)\n",
    "plt.title('Data points clustered by GMM')\n",
    "plt.xlabel('Value')\n",
    "plt.yticks([])\n",
    "plt.show()\n"
   ]
  },
  {
   "cell_type": "code",
   "execution_count": null,
   "metadata": {},
   "outputs": [],
   "source": []
  },
  {
   "cell_type": "markdown",
   "metadata": {},
   "source": [
    "**5: Anomaly Detection using GMM**\n",
    "\n",
    "Use the fitted GMM to detect outliers in the data.\n"
   ]
  },
  {
   "cell_type": "code",
   "execution_count": null,
   "metadata": {},
   "outputs": [],
   "source": [
    "# Calculate the probability density for each point\n",
    "densities = gmm.score_samples(X)\n",
    "\n",
    "# Consider points with a log probability density below a threshold as outliers\n",
    "threshold = np.percentile(densities, 4)  # adjust the percentile as needed\n",
    "outliers = X[densities < threshold]\n",
    "\n",
    "# Plot the inliers and outliers\n",
    "plt.figure(figsize=(10, 6))\n",
    "plt.scatter(data, np.zeros_like(data), c='blue', label='Inliers')\n",
    "plt.scatter(outliers, np.zeros_like(outliers), c='red', label='Outliers')\n",
    "plt.title('Anomaly Detection with GMM')\n",
    "plt.xlabel('Value')\n",
    "plt.yticks([])\n",
    "plt.legend()\n",
    "plt.show()\n"
   ]
  },
  {
   "cell_type": "code",
   "execution_count": null,
   "metadata": {},
   "outputs": [],
   "source": []
  },
  {
   "cell_type": "markdown",
   "metadata": {},
   "source": [
    "## 2D Example"
   ]
  },
  {
   "cell_type": "code",
   "execution_count": null,
   "metadata": {},
   "outputs": [],
   "source": [
    "## Generate data\n",
    "\n",
    "# Define parameters for a GMM with K components\n",
    "K = 3  # Number of components\n",
    "N = 1000  # Number of data points to generate\n",
    "\n",
    "# Parameters for each component\n",
    "mus = [np.array([4, 3]), np.array([5, 4]), np.array([8, 2])]  # Means\n",
    "sigmas = [np.array([[1, 0.85], [0.85, 1]]), np.array([[1, -0.5], [-0.5, 1]]), np.array([[1, 0], [0, 1]])]  # Covariances\n",
    "pis = [0.3, 0.5, 0.2]  # Mixing coefficients\n",
    "\n",
    "# Ensure the covariance matrices are positive definite\n",
    "sigmas = [np.dot(sigma, sigma.T) for sigma in sigmas]  # This step is optional depending on your input\n",
    "\n",
    "data = []\n",
    "truth = []\n",
    "\n",
    "for _ in range(N):\n",
    "    # Choose component\n",
    "    k = np.random.choice(K, p=pis)\n",
    "    \n",
    "    # Sample from the chosen component\n",
    "    sample = np.random.multivariate_normal(mus[k], sigmas[k])\n",
    "    data.append(sample)\n",
    "    truth.append(k)\n",
    "\n",
    "data = np.array(data)\n"
   ]
  },
  {
   "cell_type": "code",
   "execution_count": null,
   "metadata": {},
   "outputs": [],
   "source": [
    "plt.scatter(data[:,0], data[:,1])\n",
    "plt.show()"
   ]
  },
  {
   "cell_type": "code",
   "execution_count": null,
   "metadata": {},
   "outputs": [],
   "source": [
    "gm = GaussianMixture(n_components=3, n_init=10)"
   ]
  },
  {
   "cell_type": "code",
   "execution_count": null,
   "metadata": {},
   "outputs": [],
   "source": [
    "gm.fit(data)"
   ]
  },
  {
   "cell_type": "code",
   "execution_count": null,
   "metadata": {},
   "outputs": [],
   "source": [
    "plt.scatter(data[:,0], data[:,1], c=gm.predict(data))\n",
    "plt.show()"
   ]
  },
  {
   "cell_type": "code",
   "execution_count": null,
   "metadata": {},
   "outputs": [],
   "source": [
    "gm.weights_"
   ]
  },
  {
   "cell_type": "code",
   "execution_count": null,
   "metadata": {},
   "outputs": [],
   "source": [
    "gm.means_"
   ]
  },
  {
   "cell_type": "code",
   "execution_count": null,
   "metadata": {},
   "outputs": [],
   "source": [
    "gm.covariances_"
   ]
  },
  {
   "cell_type": "markdown",
   "metadata": {},
   "source": [
    "### AIC and BIC"
   ]
  },
  {
   "cell_type": "code",
   "execution_count": null,
   "metadata": {},
   "outputs": [],
   "source": [
    "gm.aic(data)"
   ]
  },
  {
   "cell_type": "code",
   "execution_count": null,
   "metadata": {},
   "outputs": [],
   "source": [
    "gm.bic(data)"
   ]
  },
  {
   "cell_type": "code",
   "execution_count": null,
   "metadata": {},
   "outputs": [],
   "source": [
    "aic = []\n",
    "bic = []\n",
    "ks = [1,2,3,4,5,6,7,8,9,10]\n",
    "for k in ks:\n",
    "    gm = GaussianMixture(n_components=k, n_init=10)\n",
    "    gm.fit(data)\n",
    "    aic.append(gm.aic(data))\n",
    "    bic.append(gm.bic(data))"
   ]
  },
  {
   "cell_type": "code",
   "execution_count": null,
   "metadata": {},
   "outputs": [],
   "source": [
    "plt.figure(figsize=(8, 3))\n",
    "plt.plot(ks, aic, \"bo-\", label='AIC')\n",
    "plt.plot(ks, bic, \"r^-\", label='BIC')\n",
    "plt.legend()\n",
    "plt.xlabel(\"$k$\")\n",
    "plt.show()"
   ]
  },
  {
   "cell_type": "markdown",
   "metadata": {},
   "source": [
    "### Anomaly Detection"
   ]
  },
  {
   "cell_type": "code",
   "execution_count": null,
   "metadata": {},
   "outputs": [],
   "source": [
    "gm = GaussianMixture(n_components=3, n_init=10)\n",
    "gm.fit(data)\n",
    "densities = gm.score_samples(data)"
   ]
  },
  {
   "cell_type": "code",
   "execution_count": null,
   "metadata": {},
   "outputs": [],
   "source": [
    "threshold = np.percentile(densities, 1)  # adjust the percentile as needed\n",
    "outliers = data[densities < threshold]\n",
    "\n",
    "# Plot the inliers and outliers\n",
    "plt.figure(figsize=(10, 6))\n",
    "plt.scatter(data[:,0],data[:,1] , c='blue', label='Inliers')\n",
    "plt.scatter(outliers[:,0], outliers[:,1], c='red', label='Outliers',s=100)\n",
    "plt.title('Anomaly Detection with GMM')\n",
    "plt.xlabel('Value')\n",
    "plt.yticks([])\n",
    "plt.legend()\n",
    "plt.show()"
   ]
  },
  {
   "cell_type": "code",
   "execution_count": null,
   "metadata": {},
   "outputs": [],
   "source": [
    "### Plot a mixture density with two features\n",
    "\n",
    "import numpy as np\n",
    "import plotly.graph_objects as go\n",
    "from scipy.stats import multivariate_normal\n",
    "\n",
    "# Define the mixture model parameters with 3 components\n",
    "means = [\n",
    "    # np.array([0, 0]),  # First component mean\n",
    "    # np.array([3, 3]),  # Second component mean\n",
    "    # np.array([-3, 3])  # Third component mean\n",
    "    np.array([4.95, 4.08]),\n",
    "    np.array([7.93, 1.94]),\n",
    "    np.array([4.03, 3.01])\n",
    "]\n",
    "covariances = [\n",
    "    # np.array([[2, 0.5], [0.5, 1]]),  # First component covariance\n",
    "    # np.array([[2, -0.5], [-0.5, 1]]),  # Second component covariance\n",
    "    # np.array([[2, 0], [0, 1]])  # Third component covariance\n",
    "\n",
    "    np.array([[1.28, -.99], [-.99, 1.19]]),  # First component covariance\n",
    "    np.array([[1.19, -0.14], [-0.14, 1.08]]),  # Second component covariance\n",
    "    np.array([[2.03, 1.99], [1.99, 2]])  # Third component covariance\n",
    "]\n",
    "coefficients = [.5, .22, .28] # [0.2, 0.3, 0.5]  # Mixing coefficients for 3 components\n",
    "\n",
    "# Create a grid of points where the PDF will be evaluated\n",
    "x = np.linspace(0, 10, 100)\n",
    "y = np.linspace(0, 10, 100)\n",
    "X, Y = np.meshgrid(x, y)\n",
    "pos = np.dstack((X, Y))\n",
    "\n",
    "# Compute the mixture PDF with 3 components\n",
    "Z = np.zeros(X.shape)\n",
    "for mean, cov, coef in zip(means, covariances, coefficients):\n",
    "    rv = multivariate_normal(mean, cov)\n",
    "    Z += coef * rv.pdf(pos)\n",
    "\n",
    "# Plot using Plotly\n",
    "fig = go.Figure(data=[go.Surface(z=Z, x=X, y=Y)])\n",
    "fig.update_layout(autosize=False,\n",
    "                  width=700, height=700,\n",
    "                  margin=dict(l=65, r=50, b=65, t=90),\n",
    "                  scene=dict(\n",
    "                      #xaxis_title='X Axis',\n",
    "                      #yaxis_title='Y Axis',\n",
    "                      zaxis_title='PDF'\n",
    "                  ))\n",
    "\n",
    "fig.show()\n"
   ]
  },
  {
   "cell_type": "markdown",
   "metadata": {},
   "source": [
    "## Real Data"
   ]
  },
  {
   "cell_type": "code",
   "execution_count": null,
   "metadata": {},
   "outputs": [],
   "source": [
    "import pandas as pd\n",
    "from sklearn.preprocessing import StandardScaler\n",
    "from sklearn.mixture import GaussianMixture\n",
    "from sklearn.decomposition import PCA"
   ]
  },
  {
   "cell_type": "code",
   "execution_count": null,
   "metadata": {},
   "outputs": [],
   "source": [
    "df = pd.read_csv('https://raw.githubusercontent.com/esnt/Data/refs/heads/main/CleanData/baseball.csv')"
   ]
  },
  {
   "cell_type": "code",
   "execution_count": null,
   "metadata": {},
   "outputs": [],
   "source": []
  }
 ],
 "metadata": {
  "kernelspec": {
   "display_name": "shared",
   "language": "python",
   "name": "python3"
  },
  "language_info": {
   "codemirror_mode": {
    "name": "ipython",
    "version": 3
   },
   "file_extension": ".py",
   "mimetype": "text/x-python",
   "name": "python",
   "nbconvert_exporter": "python",
   "pygments_lexer": "ipython3",
   "version": "3.12.8"
  }
 },
 "nbformat": 4,
 "nbformat_minor": 2
}
