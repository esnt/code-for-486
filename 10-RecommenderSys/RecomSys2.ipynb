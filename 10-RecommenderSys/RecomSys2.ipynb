{
 "cells": [
  {
   "cell_type": "code",
   "execution_count": 1,
   "id": "572e1711",
   "metadata": {},
   "outputs": [],
   "source": [
    "import pandas as pd\n",
    "import numpy as np\n",
    "from datetime import datetime"
   ]
  },
  {
   "cell_type": "markdown",
   "id": "f19b394a",
   "metadata": {},
   "source": [
    "Install Surprise library with either pip or conda:\n",
    "\n",
    "```\n",
    "pip install scikit-surprise\n",
    "```\n",
    "OR\n",
    "```\n",
    "conda install -c conda-forge scikit-surprise\n",
    "```"
   ]
  },
  {
   "cell_type": "code",
   "execution_count": 2,
   "id": "abcbab95",
   "metadata": {},
   "outputs": [],
   "source": [
    "from surprise import Dataset\n",
    "from surprise import Reader\n",
    "from surprise.model_selection import train_test_split, RandomizedSearchCV\n",
    "from surprise import accuracy\n",
    "from surprise import SVD, KNNWithMeans, SlopeOne, BaselineOnly\n",
    "from surprise import get_dataset_dir\n",
    "from surprise.model_selection import cross_validate"
   ]
  },
  {
   "cell_type": "code",
   "execution_count": 3,
   "id": "dba466ed",
   "metadata": {},
   "outputs": [],
   "source": [
    "## movies\n",
    "movies = pd.read_csv('movies.csv',dtype={'movieid':str})\n",
    "id_to_name = movies.set_index('movieid')['title'].to_dict()"
   ]
  },
  {
   "cell_type": "code",
   "execution_count": 4,
   "id": "202d1d12",
   "metadata": {},
   "outputs": [
    {
     "data": {
      "text/html": [
       "<div>\n",
       "<style scoped>\n",
       "    .dataframe tbody tr th:only-of-type {\n",
       "        vertical-align: middle;\n",
       "    }\n",
       "\n",
       "    .dataframe tbody tr th {\n",
       "        vertical-align: top;\n",
       "    }\n",
       "\n",
       "    .dataframe thead th {\n",
       "        text-align: right;\n",
       "    }\n",
       "</style>\n",
       "<table border=\"1\" class=\"dataframe\">\n",
       "  <thead>\n",
       "    <tr style=\"text-align: right;\">\n",
       "      <th></th>\n",
       "      <th>movieid</th>\n",
       "      <th>title</th>\n",
       "      <th>genres</th>\n",
       "    </tr>\n",
       "  </thead>\n",
       "  <tbody>\n",
       "    <tr>\n",
       "      <th>0</th>\n",
       "      <td>4993</td>\n",
       "      <td>Lord of the Rings: The Fellowship of the Ring,...</td>\n",
       "      <td>Adventure|Fantasy</td>\n",
       "    </tr>\n",
       "    <tr>\n",
       "      <th>1</th>\n",
       "      <td>5952</td>\n",
       "      <td>Lord of the Rings: The Two Towers, The (2002)</td>\n",
       "      <td>Adventure|Fantasy</td>\n",
       "    </tr>\n",
       "    <tr>\n",
       "      <th>2</th>\n",
       "      <td>7153</td>\n",
       "      <td>Lord of the Rings: The Return of the King, The...</td>\n",
       "      <td>Action|Adventure|Drama|Fantasy</td>\n",
       "    </tr>\n",
       "    <tr>\n",
       "      <th>3</th>\n",
       "      <td>3578</td>\n",
       "      <td>Gladiator (2000)</td>\n",
       "      <td>Action|Adventure|Drama</td>\n",
       "    </tr>\n",
       "    <tr>\n",
       "      <th>4</th>\n",
       "      <td>4306</td>\n",
       "      <td>Shrek (2001)</td>\n",
       "      <td>Adventure|Animation|Children|Comedy|Fantasy|Ro...</td>\n",
       "    </tr>\n",
       "  </tbody>\n",
       "</table>\n",
       "</div>"
      ],
      "text/plain": [
       "  movieid                                              title  \\\n",
       "0    4993  Lord of the Rings: The Fellowship of the Ring,...   \n",
       "1    5952      Lord of the Rings: The Two Towers, The (2002)   \n",
       "2    7153  Lord of the Rings: The Return of the King, The...   \n",
       "3    3578                                   Gladiator (2000)   \n",
       "4    4306                                       Shrek (2001)   \n",
       "\n",
       "                                              genres  \n",
       "0                                  Adventure|Fantasy  \n",
       "1                                  Adventure|Fantasy  \n",
       "2                     Action|Adventure|Drama|Fantasy  \n",
       "3                             Action|Adventure|Drama  \n",
       "4  Adventure|Animation|Children|Comedy|Fantasy|Ro...  "
      ]
     },
     "execution_count": 4,
     "metadata": {},
     "output_type": "execute_result"
    }
   ],
   "source": [
    "movies.head()"
   ]
  },
  {
   "cell_type": "code",
   "execution_count": null,
   "metadata": {},
   "outputs": [],
   "source": [
    "class_ratings = pd.read_csv('class_ratings.csv')\n",
    "user_ids = class_ratings['userid'].unique()\n",
    "n_ratings = class_ratings.groupby('userid').size()\n",
    "users = zip(user_ids, n_ratings)"
   ]
  },
  {
   "cell_type": "code",
   "execution_count": 19,
   "id": "8ac65e7d",
   "metadata": {},
   "outputs": [],
   "source": [
    "## MovieLens ratings\n",
    "df = pd.read_csv('ratings_subset.csv', dtype={'userid': str, 'movieid': str, 'rating': float})"
   ]
  },
  {
   "cell_type": "code",
   "execution_count": 20,
   "id": "f52a471d",
   "metadata": {},
   "outputs": [
    {
     "data": {
      "text/html": [
       "<div>\n",
       "<style scoped>\n",
       "    .dataframe tbody tr th:only-of-type {\n",
       "        vertical-align: middle;\n",
       "    }\n",
       "\n",
       "    .dataframe tbody tr th {\n",
       "        vertical-align: top;\n",
       "    }\n",
       "\n",
       "    .dataframe thead th {\n",
       "        text-align: right;\n",
       "    }\n",
       "</style>\n",
       "<table border=\"1\" class=\"dataframe\">\n",
       "  <thead>\n",
       "    <tr style=\"text-align: right;\">\n",
       "      <th></th>\n",
       "      <th>userid</th>\n",
       "      <th>movieid</th>\n",
       "      <th>rating</th>\n",
       "    </tr>\n",
       "  </thead>\n",
       "  <tbody>\n",
       "    <tr>\n",
       "      <th>0</th>\n",
       "      <td>13</td>\n",
       "      <td>4993</td>\n",
       "      <td>5.0</td>\n",
       "    </tr>\n",
       "    <tr>\n",
       "      <th>1</th>\n",
       "      <td>16</td>\n",
       "      <td>106916</td>\n",
       "      <td>4.5</td>\n",
       "    </tr>\n",
       "    <tr>\n",
       "      <th>2</th>\n",
       "      <td>21</td>\n",
       "      <td>68157</td>\n",
       "      <td>4.5</td>\n",
       "    </tr>\n",
       "    <tr>\n",
       "      <th>3</th>\n",
       "      <td>37</td>\n",
       "      <td>68358</td>\n",
       "      <td>4.5</td>\n",
       "    </tr>\n",
       "    <tr>\n",
       "      <th>4</th>\n",
       "      <td>38</td>\n",
       "      <td>3996</td>\n",
       "      <td>5.0</td>\n",
       "    </tr>\n",
       "  </tbody>\n",
       "</table>\n",
       "</div>"
      ],
      "text/plain": [
       "  userid movieid  rating\n",
       "0     13    4993     5.0\n",
       "1     16  106916     4.5\n",
       "2     21   68157     4.5\n",
       "3     37   68358     4.5\n",
       "4     38    3996     5.0"
      ]
     },
     "execution_count": 20,
     "metadata": {},
     "output_type": "execute_result"
    }
   ],
   "source": [
    "df.head()"
   ]
  },
  {
   "cell_type": "code",
   "execution_count": 21,
   "id": "800d5917",
   "metadata": {},
   "outputs": [],
   "source": [
    "## combine class ratings with ratings from MovieLens\n",
    "df = pd.concat([df, class_ratings])"
   ]
  },
  {
   "cell_type": "code",
   "execution_count": 22,
   "id": "365f4b1d",
   "metadata": {},
   "outputs": [
    {
     "data": {
      "text/plain": [
       "(1060583, 3)"
      ]
     },
     "execution_count": 22,
     "metadata": {},
     "output_type": "execute_result"
    }
   ],
   "source": [
    "df.shape"
   ]
  },
  {
   "cell_type": "code",
   "execution_count": 25,
   "id": "877f2359",
   "metadata": {},
   "outputs": [
    {
     "data": {
      "text/html": [
       "<div>\n",
       "<style scoped>\n",
       "    .dataframe tbody tr th:only-of-type {\n",
       "        vertical-align: middle;\n",
       "    }\n",
       "\n",
       "    .dataframe tbody tr th {\n",
       "        vertical-align: top;\n",
       "    }\n",
       "\n",
       "    .dataframe thead th {\n",
       "        text-align: right;\n",
       "    }\n",
       "</style>\n",
       "<table border=\"1\" class=\"dataframe\">\n",
       "  <thead>\n",
       "    <tr style=\"text-align: right;\">\n",
       "      <th></th>\n",
       "      <th>userid</th>\n",
       "      <th>movieid</th>\n",
       "      <th>rating</th>\n",
       "    </tr>\n",
       "  </thead>\n",
       "  <tbody>\n",
       "    <tr>\n",
       "      <th>3281</th>\n",
       "      <td>Emily</td>\n",
       "      <td>78499</td>\n",
       "      <td>3.5</td>\n",
       "    </tr>\n",
       "    <tr>\n",
       "      <th>3282</th>\n",
       "      <td>Jarom</td>\n",
       "      <td>5218</td>\n",
       "      <td>4.5</td>\n",
       "    </tr>\n",
       "  </tbody>\n",
       "</table>\n",
       "</div>"
      ],
      "text/plain": [
       "     userid movieid  rating\n",
       "3281  Emily   78499     3.5\n",
       "3282  Jarom    5218     4.5"
      ]
     },
     "execution_count": 25,
     "metadata": {},
     "output_type": "execute_result"
    }
   ],
   "source": [
    "df.tail(2)"
   ]
  },
  {
   "cell_type": "code",
   "execution_count": 24,
   "id": "a9be38bc",
   "metadata": {},
   "outputs": [
    {
     "name": "stdout",
     "output_type": "stream",
     "text": [
      "Unique users: 13638\n",
      "Unique movies: 600\n",
      "Average ratings/user: 77.76675465610793\n"
     ]
    }
   ],
   "source": [
    "print(f'Unique users: {df[\"userid\"].nunique()}')\n",
    "print(f'Unique movies: {df[\"movieid\"].nunique()}')\n",
    "print(f'Average ratings/user: {df.groupby(\"userid\").size().mean()}')"
   ]
  },
  {
   "cell_type": "markdown",
   "id": "26049b4d",
   "metadata": {},
   "source": [
    "**Train a model**"
   ]
  },
  {
   "cell_type": "code",
   "execution_count": 36,
   "metadata": {},
   "outputs": [],
   "source": [
    "## Create a new data object with the updated data\n",
    "reader = Reader(rating_scale=(0.5,5))\n",
    "data = Dataset.load_from_df(df[['userid','movieid','rating']],reader)"
   ]
  },
  {
   "cell_type": "code",
   "execution_count": 37,
   "metadata": {},
   "outputs": [],
   "source": [
    "# train-test split\n",
    "trainset, testset = train_test_split(data, test_size=.25)"
   ]
  },
  {
   "cell_type": "code",
   "execution_count": 38,
   "id": "e5331f32",
   "metadata": {},
   "outputs": [
    {
     "data": {
      "text/plain": [
       "<surprise.prediction_algorithms.matrix_factorization.SVD at 0x32c4dfe00>"
      ]
     },
     "execution_count": 38,
     "metadata": {},
     "output_type": "execute_result"
    }
   ],
   "source": [
    "## Matrix factorization SVD\n",
    "model_svd = SVD(n_factors=100)\n",
    "model_svd.fit(trainset)\n",
    "\n",
    "\n",
    "# ## KNN with mean adjustment\n",
    "# ## Knn model take 3-3.5 min\n",
    "# model_knn = KNNWithMeans(k=10)\n",
    "# model_knn.fit(trainset)\n"
   ]
  },
  {
   "cell_type": "code",
   "execution_count": 39,
   "id": "4de3b869",
   "metadata": {},
   "outputs": [
    {
     "name": "stdout",
     "output_type": "stream",
     "text": [
      "Estimating biases using als...\n"
     ]
    },
    {
     "data": {
      "text/plain": [
       "<surprise.prediction_algorithms.slope_one.SlopeOne at 0x32c4d7470>"
      ]
     },
     "execution_count": 39,
     "metadata": {},
     "output_type": "execute_result"
    }
   ],
   "source": [
    "\n",
    "# ## Baseline\n",
    "model_base = BaselineOnly()\n",
    "model_base.fit(trainset)\n",
    "base_predictions = model_base.test(testset)\n",
    "\n",
    "# ## SlopeOne\n",
    "model_so = SlopeOne()\n",
    "model_so.fit(trainset)\n"
   ]
  },
  {
   "cell_type": "code",
   "execution_count": 41,
   "id": "8bf1683b",
   "metadata": {},
   "outputs": [
    {
     "data": {
      "text/plain": [
       "1.0211489414899861"
      ]
     },
     "execution_count": 41,
     "metadata": {},
     "output_type": "execute_result"
    }
   ],
   "source": [
    "np.var(df['rating'])"
   ]
  },
  {
   "cell_type": "code",
   "execution_count": 42,
   "id": "9fff36fa",
   "metadata": {},
   "outputs": [
    {
     "name": "stdout",
     "output_type": "stream",
     "text": [
      "RMSE: 0.7798\n"
     ]
    },
    {
     "data": {
      "text/plain": [
       "0.7797532940262601"
      ]
     },
     "execution_count": 42,
     "metadata": {},
     "output_type": "execute_result"
    }
   ],
   "source": [
    "p_svd = model_svd.test(testset)\n",
    "accuracy.rmse(p_svd)"
   ]
  },
  {
   "cell_type": "code",
   "execution_count": 43,
   "id": "044b0325",
   "metadata": {},
   "outputs": [
    {
     "ename": "NameError",
     "evalue": "name 'model_knn' is not defined",
     "output_type": "error",
     "traceback": [
      "\u001b[0;31m---------------------------------------------------------------------------\u001b[0m",
      "\u001b[0;31mNameError\u001b[0m                                 Traceback (most recent call last)",
      "Cell \u001b[0;32mIn[43], line 2\u001b[0m\n\u001b[1;32m      1\u001b[0m \u001b[38;5;66;03m## predicting from the model takes about 3 minutes\u001b[39;00m\n\u001b[0;32m----> 2\u001b[0m p_knn \u001b[38;5;241m=\u001b[39m model_knn\u001b[38;5;241m.\u001b[39mtest(testset)\n\u001b[1;32m      3\u001b[0m accuracy\u001b[38;5;241m.\u001b[39mrmse(p_knn)\n",
      "\u001b[0;31mNameError\u001b[0m: name 'model_knn' is not defined"
     ]
    }
   ],
   "source": [
    "## predicting from the model takes about 3 minutes\n",
    "p_knn = model_knn.test(testset)\n",
    "accuracy.rmse(p_knn)"
   ]
  },
  {
   "cell_type": "code",
   "execution_count": 44,
   "id": "28cc0896",
   "metadata": {},
   "outputs": [
    {
     "name": "stdout",
     "output_type": "stream",
     "text": [
      "RMSE: 0.8319\n"
     ]
    },
    {
     "data": {
      "text/plain": [
       "0.8318783064847846"
      ]
     },
     "execution_count": 44,
     "metadata": {},
     "output_type": "execute_result"
    }
   ],
   "source": [
    "base_user, base_movie = model_base.compute_baselines()\n",
    "p_base = model_base.test(testset)\n",
    "accuracy.rmse(p_base)"
   ]
  },
  {
   "cell_type": "code",
   "execution_count": 45,
   "id": "1c524332",
   "metadata": {},
   "outputs": [
    {
     "name": "stdout",
     "output_type": "stream",
     "text": [
      "RMSE: 0.8280\n"
     ]
    },
    {
     "data": {
      "text/plain": [
       "0.8280154360892522"
      ]
     },
     "execution_count": 45,
     "metadata": {},
     "output_type": "execute_result"
    }
   ],
   "source": [
    "p_so = model_so.test(testset)\n",
    "accuracy.rmse(p_so)"
   ]
  },
  {
   "cell_type": "code",
   "execution_count": null,
   "id": "254228f6",
   "metadata": {},
   "outputs": [],
   "source": []
  },
  {
   "cell_type": "code",
   "execution_count": null,
   "metadata": {},
   "outputs": [],
   "source": [
    "## Tune hyperparameters for the SVD model\n",
    " ## This code takes about 8 mintues to run (on my computer at least)\n",
    " ## GridSearchCV will take much longer\n",
    "\n",
    "# param_grid = {'n_factors': [50, 100, 150],\n",
    "#               'n_epochs': [20, 30, 40],\n",
    "#               'lr_all': [0.002, 0.008, 0.012],\n",
    "#               'reg_all': [0.02, 0.06, 0.1, 0.15]}\n",
    "\n",
    "# start_time = datetime.now()\n",
    "# grid_search = RandomizedSearchCV(SVD, param_grid, measures=['rmse'], cv=5)\n",
    "# grid_search.fit(data)\n",
    "# end_time = datetime.now()\n",
    "\n",
    "# min_to_run = (end_time-start_time).seconds/60\n",
    "# print(f\"Best RMSE score: {grid_search.best_score['rmse']}\")\n",
    "# print(f\"Best parameters: {grid_search.best_params['rmse']}\")\n",
    "# print(f\"Minutes to Run: {min_to_run}\")"
   ]
  },
  {
   "cell_type": "code",
   "execution_count": null,
   "id": "2b1e5c0c",
   "metadata": {},
   "outputs": [],
   "source": [
    "df.head()"
   ]
  },
  {
   "cell_type": "markdown",
   "id": "f42db27e",
   "metadata": {},
   "source": [
    "**Get actual recommendations**"
   ]
  },
  {
   "cell_type": "code",
   "execution_count": 46,
   "id": "40afa76c",
   "metadata": {},
   "outputs": [],
   "source": [
    "def get_top_recommendations(user, fitted_model, n_recommendations=10):\n",
    "    unrated_movies = df[~df['movieid'].isin(df[df['userid'] == user]['movieid'])]\n",
    "    predicted_ratings = []\n",
    "    for movie in unrated_movies['movieid'].unique():\n",
    "        predicted_ratings.append((movie, fitted_model.predict(user, movie).est))\n",
    "    predicted_ratings.sort(key=lambda x: x[1], reverse=True)\n",
    "    top_recommendations = predicted_ratings[:n_recommendations]\n",
    "    print(f'Top {n_recommendations} recommendations for {user}')\n",
    "    print('-----')\n",
    "    for m,r in top_recommendations:\n",
    "        print(f'{id_to_name[m]} ({round(r,3)})')"
   ]
  },
  {
   "cell_type": "code",
   "execution_count": 49,
   "metadata": {},
   "outputs": [
    {
     "name": "stdout",
     "output_type": "stream",
     "text": [
      "Top 10 recommendations for Caleb Christensen\n",
      "-----\n",
      "Spirited Away (Sen to Chihiro no kamikakushi) (2001) (4.31)\n",
      "Lord of the Rings: The Return of the King, The (2003) (4.304)\n",
      "Memento (2000) (4.12)\n",
      "Eternal Sunshine of the Spotless Mind (2004) (4.08)\n",
      "Old Boy (2003) (4.075)\n",
      "Departed, The (2006) (3.964)\n",
      "Dark Knight, The (2008) (3.922)\n",
      "City of God (Cidade de Deus) (2002) (3.899)\n",
      "Lives of Others, The (Das leben der Anderen) (2006) (3.881)\n",
      "Interstellar (2014) (3.857)\n"
     ]
    }
   ],
   "source": [
    "## Give recommendations for our class\n",
    "get_top_recommendations('Caleb Christensen', model_svd, n_recommendations=10)"
   ]
  },
  {
   "cell_type": "code",
   "execution_count": null,
   "id": "8acd341a",
   "metadata": {},
   "outputs": [],
   "source": []
  },
  {
   "cell_type": "code",
   "execution_count": 48,
   "metadata": {},
   "outputs": [
    {
     "data": {
      "text/plain": [
       "array(['Caleb Christensen', 'Emma Ouzts', 'James Christensen', 'Jessa',\n",
       "       'Madison', 'Rebz27', 'Ryan Corry', 'Savage', 'Spencer Wilson',\n",
       "       'TalmageA', 'Tyler Zaugg', 'Xela Marchant', 'bradyheinig',\n",
       "       'brandon-keele', 'brycemartin', 'daphne', 'razedori', 'rebz27',\n",
       "       'shannon'], dtype=object)"
      ]
     },
     "execution_count": 48,
     "metadata": {},
     "output_type": "execute_result"
    }
   ],
   "source": [
    "user_ids"
   ]
  },
  {
   "cell_type": "code",
   "execution_count": null,
   "id": "0fe46a80",
   "metadata": {},
   "outputs": [],
   "source": []
  }
 ],
 "metadata": {
  "kernelspec": {
   "display_name": "shared",
   "language": "python",
   "name": "python3"
  },
  "language_info": {
   "codemirror_mode": {
    "name": "ipython",
    "version": 3
   },
   "file_extension": ".py",
   "mimetype": "text/x-python",
   "name": "python",
   "nbconvert_exporter": "python",
   "pygments_lexer": "ipython3",
   "version": "3.12.8"
  }
 },
 "nbformat": 4,
 "nbformat_minor": 5
}
